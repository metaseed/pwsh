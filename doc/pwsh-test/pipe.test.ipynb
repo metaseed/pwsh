{
 "cells": [
  {
   "cell_type": "markdown",
   "metadata": {},
   "source": [
    "https://powershell.one/powershell-internals/scriptblocks/support-pipeline"
   ]
  },
  {
   "cell_type": "code",
   "execution_count": 1,
   "metadata": {
    "dotnet_interactive": {
     "language": "pwsh"
    },
    "polyglot_notebook": {
     "kernelName": "pwsh"
    },
    "vscode": {
     "languageId": "polyglot-notebook"
    }
   },
   "outputs": [
    {
     "name": "stdout",
     "output_type": "stream",
     "text": [
      "\u001b[31;1mGet-Process: \u001b[0m\n",
      "\u001b[31;1m\u001b[36;1mLine |\u001b[0m\n",
      "\u001b[31;1m\u001b[36;1m\u001b[36;1m  17 | \u001b[0m \u001b[36;1mgps notepad\u001b[0m | Count-Object\u001b[0m\n",
      "\u001b[31;1m\u001b[36;1m\u001b[36;1m\u001b[0m\u001b[36;1m\u001b[0m\u001b[36;1m     | \u001b[31;1m ~~~~~~~~~~~\u001b[0m\n",
      "\u001b[31;1m\u001b[36;1m\u001b[36;1m\u001b[0m\u001b[36;1m\u001b[0m\u001b[36;1m\u001b[31;1m\u001b[31;1m\u001b[36;1m     | \u001b[31;1mCannot find a process with the name \"notepad\". Verify the process name and call the cmdlet again.\u001b[0m\n",
      "0\n"
     ]
    },
    {
     "ename": "Error",
     "evalue": "Command failed: SubmitCode: function Count-Object ...",
     "output_type": "error",
     "traceback": [
      "Command failed: SubmitCode: function Count-Object ..."
     ]
    }
   ],
   "source": [
    "function Count-Object\n",
    "{\n",
    "\tbegin\n",
    "\t{\n",
    "\t\t$x = 0\n",
    "\t}\n",
    "\tprocess\n",
    "\t{\n",
    "\t\t$x++\n",
    "\t}\n",
    "\tend\n",
    "\t{\n",
    "\t\t $x\n",
    "\t}\n",
    "}\n",
    "# open 2 notepad for testing\n",
    "gps notepad | Count-Object"
   ]
  },
  {
   "cell_type": "code",
   "execution_count": 2,
   "metadata": {
    "dotnet_interactive": {
     "language": "pwsh"
    },
    "polyglot_notebook": {
     "kernelName": "pwsh"
    },
    "vscode": {
     "languageId": "polyglot-notebook"
    }
   },
   "outputs": [
    {
     "name": "stdout",
     "output_type": "stream",
     "text": [
      "2\n",
      "a: 3\n",
      "20240607\n",
      "1\n",
      "\n",
      "\u001b[32;1mIsPublic\u001b[0m \u001b[32;1;3mIsSerial\u001b[0m\u001b[32;1m Name                                    \u001b[0m\u001b[32;1m BaseType\u001b[0m\n",
      "\u001b[32;1m--------\u001b[0m \u001b[32;1m--------\u001b[0m \u001b[32;1m----                                    \u001b[0m \u001b[32;1m--------\u001b[0m\n",
      "True     True     Object[]                                 System.Array\n",
      "\n"
     ]
    },
    {
     "ename": "Error",
     "evalue": "Command failed: SubmitCode: $res = & { ...",
     "output_type": "error",
     "traceback": [
      "Command failed: SubmitCode: $res = & { ..."
     ]
    }
   ],
   "source": [
    "$res = & {\n",
    "\t# every expression result goto output\n",
    "\t2\n",
    "\t$null = 3 # eat the expression result\n",
    "\t$x = 0 # left most assignment eat the expression result\n",
    "\t$a = $b = 3  # but assignment in the middle return value, $a is 3 now\n",
    "\t\"a: $a\"\n",
    "\t$x++ # is $x = $x + 1, has left most assignment so no output\n",
    "\tget-date -format filedate # get-date cmdlet has return value, so goto output\n",
    "\t$x\n",
    "}\n",
    "# NOTE: we can return a array of values from function or script block\n",
    "$res\n",
    "$res.GetType()"
   ]
  },
  {
   "cell_type": "code",
   "execution_count": 3,
   "metadata": {
    "dotnet_interactive": {
     "language": "pwsh"
    },
    "polyglot_notebook": {
     "kernelName": "pwsh"
    },
    "vscode": {
     "languageId": "polyglot-notebook"
    }
   },
   "outputs": [
    {
     "name": "stdout",
     "output_type": "stream",
     "text": [
      "begin\n",
      "0\n",
      "0\n",
      "process\n",
      "1\n",
      "1\n",
      "process\n",
      "2\n",
      "2\n",
      "end\n",
      "5\n",
      "2\n",
      "2\n"
     ]
    }
   ],
   "source": [
    "function Count-Object\n",
    "{\n",
    "\tbegin\n",
    "\t{\n",
    "\t\tWrite-Host \"begin\"\n",
    "\t\t$x = 0\n",
    "\t\t$x # 0\n",
    "\t\treturn $x # 0\n",
    "\t}\n",
    "\tprocess\n",
    "\t{\n",
    "\t\tWrite-Host \"process\"\n",
    "\t\t$x++\n",
    "\t\t$x # 1 then 2\n",
    "\t\t$x # 1 then 2\n",
    "\t}\n",
    "\tend\n",
    "\t{\n",
    "\t\twrite-host \"end\"\n",
    "\t\t# every line in the end goto output\n",
    "\t\t 5 # 5\n",
    "\t\t $x # 2\n",
    "\t\t return $x # 2\n",
    "\t}\n",
    "}\n",
    "(1,2) | Count-Object"
   ]
  },
  {
   "cell_type": "code",
   "execution_count": 4,
   "metadata": {
    "dotnet_interactive": {
     "language": "pwsh"
    },
    "polyglot_notebook": {
     "kernelName": "pwsh"
    },
    "vscode": {
     "languageId": "polyglot-notebook"
    }
   },
   "outputs": [
    {
     "name": "stdout",
     "output_type": "stream",
     "text": [
      "output: 1\n",
      "output: 1\n",
      "1\n",
      "output: 2\n",
      "output: 2\n",
      "2\n"
     ]
    }
   ],
   "source": [
    "function Count-Object\n",
    "{\n",
    "\tbegin\n",
    "\t{\n",
    "\t\t$x = 0\n",
    "\t}\n",
    "\tprocess\n",
    "\t{\n",
    "\t\t$x++\n",
    "\t\twrite-host \"output: $x\"\n",
    "\t\treturn $x # 1, 2\n",
    "\t}\n",
    "\tend\n",
    "\t{\n",
    "\t\t# every line in the end goto output\n",
    "\t\t#$x\n",
    "\t}\n",
    "}\n",
    "'a','b' | Count-Object|Count-Object"
   ]
  },
  {
   "cell_type": "code",
   "execution_count": 5,
   "metadata": {
    "dotnet_interactive": {
     "language": "pwsh"
    },
    "polyglot_notebook": {
     "kernelName": "pwsh"
    },
    "vscode": {
     "languageId": "polyglot-notebook"
    }
   },
   "outputs": [
    {
     "name": "stdout",
     "output_type": "stream",
     "text": [
      "begin first\n",
      "10\n",
      "10\n",
      "begin second\n",
      "0 ,second process 11\n",
      "0 ,second process 12\n",
      "a ,first process 0\n",
      "b ,first process 0\n",
      "end first\n",
      "end second\n"
     ]
    }
   ],
   "source": [
    "function Count-Object\n",
    "{\n",
    "\tbegin\n",
    "\t{\n",
    "\t\twrite-host \"begin first\"\n",
    "\t\t$x = 0\n",
    "\t\t$x\n",
    "\t\t$x\n",
    "\t}\n",
    "\tprocess\n",
    "\t{\n",
    "\t\twrite-host \"$_ ,first process $x\"\n",
    "\t\t# $x++\n",
    "\t\t# write-host $x\n",
    "\t\t# return $x\n",
    "\t}\n",
    "\tend\n",
    "\t{\n",
    "\t\twrite-host 'end first'\n",
    "\t}\n",
    "}\n",
    "function Count-Object1\n",
    "{\n",
    "\tbegin\n",
    "\t{\n",
    "\t\t$x = 10\n",
    "\t\t$x\n",
    "\t\t$x\n",
    "\t\twrite-host \"begin second\"\n",
    "\t}\n",
    "\tprocess\n",
    "\t{\n",
    "\t\t$x++\n",
    "\t\twrite-host \"$_ ,second process $x\"\n",
    "\n",
    "\t\t# return $x\n",
    "\t}\n",
    "\tend\n",
    "\t{\n",
    "\t\twrite-host 'end second'\n",
    "\t}\n",
    "}\n",
    "'a','b' | Count-Object|Count-Object1"
   ]
  },
  {
   "cell_type": "code",
   "execution_count": 6,
   "metadata": {
    "dotnet_interactive": {
     "language": "pwsh"
    },
    "polyglot_notebook": {
     "kernelName": "pwsh"
    },
    "vscode": {
     "languageId": "polyglot-notebook"
    }
   },
   "outputs": [
    {
     "name": "stdout",
     "output_type": "stream",
     "text": [
      "begin first\n",
      "begin second\n",
      "1\n",
      "11\n",
      "11\n",
      "2\n",
      "12\n",
      "12\n",
      "end first\n",
      "end second\n"
     ]
    }
   ],
   "source": [
    "function Count-Object\n",
    "{\n",
    "\tbegin\n",
    "\t{\n",
    "\t\t$x = 0\n",
    "\t\twrite-host \"begin first\"\n",
    "\t}\n",
    "\tprocess\n",
    "\t{\n",
    "\t\t$x++\n",
    "\t\twrite-host $x\n",
    "\t\treturn $x\n",
    "\t}\n",
    "\tend\n",
    "\t{\n",
    "\t\twrite-host 'end first'\n",
    "\t}\n",
    "}\n",
    "function Count-Object1\n",
    "{\n",
    "\tbegin\n",
    "\t{\n",
    "\t\t$x = 10\n",
    "\t\twrite-host \"begin second\"\n",
    "\t}\n",
    "\tprocess\n",
    "\t{\n",
    "\t\t$x++\n",
    "\t\twrite-host $x\n",
    "\n",
    "\t\treturn $x\n",
    "\t}\n",
    "\tend\n",
    "\t{\n",
    "\t\twrite-host 'end second'\n",
    "\t}\n",
    "}\n",
    "'a','b' | Count-Object|Count-Object1"
   ]
  },
  {
   "cell_type": "markdown",
   "metadata": {},
   "source": [
    "\t\tinit 1, inti 2\n",
    "itemA:  step 1, step 2, resultA\n",
    "itemB:  step 1, step 2, resultB\n",
    "\t\tend  1, end  2 "
   ]
  },
  {
   "cell_type": "markdown",
   "metadata": {},
   "source": [
    "## Array like object"
   ]
  },
  {
   "cell_type": "code",
   "execution_count": 7,
   "metadata": {
    "dotnet_interactive": {
     "language": "pwsh"
    },
    "polyglot_notebook": {
     "kernelName": "pwsh"
    },
    "vscode": {
     "languageId": "polyglot-notebook"
    }
   },
   "outputs": [],
   "source": [
    "function Out-Voice\n",
    "{\n",
    "  param\n",
    "  (\n",
    "    [Parameter(Mandatory,ValueFromPipeline)]\n",
    "    # allow string arrays:\n",
    "    [string[]]\n",
    "    $Text,\n",
    "\n",
    "    [ValidateRange(-10,10)]\n",
    "    [int]\n",
    "    $Speed = 0\n",
    "  )\n",
    "\n",
    "  # do initialization tasks\n",
    "  begin\n",
    "  {\n",
    "    $sapi = New-Object -ComObject Sapi.SPVoice\n",
    "    $sapi.Rate = $Speed\n",
    "  }\n",
    "\n",
    "  # process pipeline input\n",
    "  process\n",
    "  {\n",
    "    # unwrap arrays manually that were assigned to the\n",
    "    # parameter directly:\n",
    "    foreach($element in $Text)\n",
    "    {\n",
    "      $null = $sapi.Speak($element)\n",
    "    }\n",
    "  }\n",
    "}\n",
    "\n",
    "# accepts pipeline input:\n",
    "'Hello','This is a test' | Out-Voice -Speed 6"
   ]
  },
  {
   "cell_type": "code",
   "execution_count": 8,
   "metadata": {
    "dotnet_interactive": {
     "language": "pwsh"
    },
    "polyglot_notebook": {
     "kernelName": "pwsh"
    },
    "vscode": {
     "languageId": "polyglot-notebook"
    }
   },
   "outputs": [
    {
     "name": "stdout",
     "output_type": "stream",
     "text": [
      "Hello\n",
      "This is a test\n"
     ]
    }
   ],
   "source": [
    "function Array-Test\n",
    "{\n",
    "  param\n",
    "  (\n",
    "    [Parameter(Mandatory,ValueFromPipeline)]\n",
    "    # allow string arrays:\n",
    "    [string[]]\n",
    "    $Text\n",
    "  )\n",
    "\n",
    "  # do initialization tasks\n",
    "  begin\n",
    "  {\n",
    "    $x = 0\n",
    "  }\n",
    "\n",
    "  # process pipeline input\n",
    "  process\n",
    "  {\n",
    "    # unwrap arrays manually that were assigned to the\n",
    "    # parameter directly:\n",
    "    foreach($element in $Text)\n",
    "    {\n",
    "      write-host $element\n",
    "    }\n",
    "  }\n",
    "}\n",
    "\n",
    "# accepts pipeline input:\n",
    "'Hello','This is a test' | Array-Test"
   ]
  },
  {
   "cell_type": "code",
   "execution_count": 9,
   "metadata": {
    "dotnet_interactive": {
     "language": "pwsh"
    },
    "polyglot_notebook": {
     "kernelName": "pwsh"
    },
    "vscode": {
     "languageId": "polyglot-notebook"
    }
   },
   "outputs": [
    {
     "name": "stdout",
     "output_type": "stream",
     "text": [
      "Hello\n",
      "System.String[]\n",
      "This is a test\n",
      "System.String[]\n"
     ]
    }
   ],
   "source": [
    "function Array-Test\n",
    "{\n",
    "  param\n",
    "  (\n",
    "    [Parameter(Mandatory,ValueFromPipeline)]\n",
    "    # allow string arrays:\n",
    "    [string[]]\n",
    "    $Text\n",
    "  )\n",
    "\n",
    "  # do initialization tasks\n",
    "  begin\n",
    "  {\n",
    "    $x = 0\n",
    "  }\n",
    "\n",
    "  # process pipeline input\n",
    "  process\n",
    "  {\n",
    "    # unwrap arrays manually that were assigned to the\n",
    "    # parameter directly:\n",
    "    write-host $Text\n",
    "\twrite-host $text.gettype()\n",
    "  }\n",
    "}\n",
    "\n",
    "# accepts pipeline input:\n",
    "'Hello','This is a test' | Array-Test"
   ]
  },
  {
   "cell_type": "code",
   "execution_count": 10,
   "metadata": {
    "dotnet_interactive": {
     "language": "pwsh"
    },
    "polyglot_notebook": {
     "kernelName": "pwsh"
    },
    "vscode": {
     "languageId": "polyglot-notebook"
    }
   },
   "outputs": [
    {
     "name": "stdout",
     "output_type": "stream",
     "text": [
      "Hello\n",
      "System.String\n",
      "This is a test\n",
      "System.String\n"
     ]
    }
   ],
   "source": [
    "function Array-Test\n",
    "{\n",
    "  param\n",
    "  (\n",
    "    [Parameter(Mandatory,ValueFromPipeline)]\n",
    "    # allow string arrays:\n",
    "    $Text\n",
    "  )\n",
    "\n",
    "  # do initialization tasks\n",
    "  begin\n",
    "  {\n",
    "    $x = 0\n",
    "  }\n",
    "\n",
    "  # process pipeline input\n",
    "  process\n",
    "  {\n",
    "    # unwrap arrays manually that were assigned to the\n",
    "    # parameter directly:\n",
    "    write-host $Text\n",
    "\twrite-host $text.gettype()\n",
    "  }\n",
    "}\n",
    "\n",
    "# accepts pipeline input:\n",
    "'Hello','This is a test' | Array-Test"
   ]
  },
  {
   "cell_type": "code",
   "execution_count": 11,
   "metadata": {
    "dotnet_interactive": {
     "language": "pwsh"
    },
    "polyglot_notebook": {
     "kernelName": "pwsh"
    },
    "vscode": {
     "languageId": "polyglot-notebook"
    }
   },
   "outputs": [
    {
     "name": "stdout",
     "output_type": "stream",
     "text": [
      "Hello\n",
      "System.String\n",
      "This is a test\n",
      "System.String\n"
     ]
    }
   ],
   "source": [
    "function Array-Test\n",
    "{\n",
    "  param\n",
    "  (\n",
    "    [Parameter(Mandatory,ValueFromPipeline)]\n",
    "    $Text\n",
    "  )\n",
    "\n",
    "  # do initialization tasks\n",
    "  begin\n",
    "  {\n",
    "    $x = 0\n",
    "  }\n",
    "\n",
    "  # process pipeline input\n",
    "  process\n",
    "  {\n",
    "    # unwrap arrays manually that were assigned to the\n",
    "    # parameter directly:\n",
    "    write-host $Text\n",
    "\twrite-host $text.gettype()\n",
    "  }\n",
    "}\n",
    "## add ()\n",
    "('Hello','This is a test') | Array-Test"
   ]
  },
  {
   "cell_type": "markdown",
   "metadata": {},
   "source": [
    "> the pipeline operator access obj or array as the left most (first) object, then every step is a partial function call\n",
    "> the step function accept obj or item of the array, not the full array as one-time obj"
   ]
  },
  {
   "cell_type": "code",
   "execution_count": 12,
   "metadata": {
    "dotnet_interactive": {
     "language": "pwsh"
    },
    "polyglot_notebook": {
     "kernelName": "pwsh"
    },
    "vscode": {
     "languageId": "polyglot-notebook"
    }
   },
   "outputs": [
    {
     "name": "stdout",
     "output_type": "stream",
     "text": [
      "begin \n",
      "begin \n",
      "process 1\n",
      "process 1\n",
      "1\n",
      "process 2\n",
      "process 2\n",
      "2\n",
      "end 2\n",
      "end 2\n",
      "----------\n",
      "begin \n",
      "process 1\n",
      "process 2\n",
      "end 2\n",
      "begin \n",
      "process 1\n",
      "1\n",
      "process 2\n",
      "2\n",
      "end 2\n",
      "----------\n",
      "begin \n",
      "process 1\n",
      "process 2\n",
      "end 2\n",
      "**\n",
      "begin \n",
      "process 1\n",
      "1\n",
      "process 2\n",
      "2\n",
      "end 2\n"
     ]
    }
   ],
   "source": [
    "function Test\n",
    "{\n",
    "  param\n",
    "  (\n",
    "    [Parameter(Mandatory,ValueFromPipeline)]\n",
    "    # allow string arrays:\n",
    "    $Text\n",
    "  )\n",
    "\n",
    "  # do initialization tasks\n",
    "  begin\n",
    "  {\n",
    "\n",
    "    $x = $Test\n",
    "    write-host \"begin $Text\"\n",
    "  }\n",
    "\n",
    "  # process pipeline input\n",
    "  process\n",
    "  {\n",
    "    write-host \"process $Text\"\n",
    "    $Text\n",
    "  }\n",
    "\n",
    "  end\n",
    "\t{\n",
    "\t\twrite-host \"end $Text\"\n",
    "\t}\n",
    "}\n",
    "\n",
    "1,2 | Test|Test\n",
    "write-host \"----------\"\n",
    "(1,2 | Test)|Test\n",
    "write-host \"----------\"\n",
    "$v =1,2 | Test\n",
    "write-host '**'\n",
    "$v|Test"
   ]
  },
  {
   "cell_type": "code",
   "execution_count": 5,
   "metadata": {
    "dotnet_interactive": {
     "language": "pwsh"
    },
    "polyglot_notebook": {
     "kernelName": "pwsh"
    },
    "vscode": {
     "languageId": "polyglot-notebook"
    }
   },
   "outputs": [
    {
     "name": "stdout",
     "output_type": "stream",
     "text": [
      "\n",
      "\u001b[32;1mIsPublic\u001b[0m \u001b[32;1;3mIsSerial\u001b[0m\u001b[32;1m Name                                    \u001b[0m\u001b[32;1m BaseType\u001b[0m\n",
      "\u001b[32;1m--------\u001b[0m \u001b[32;1m--------\u001b[0m \u001b[32;1m----                                    \u001b[0m \u001b[32;1m--------\u001b[0m\n",
      "True     True     Object[]                                 System.Array\n",
      "Lenght: 2\n",
      "a\n",
      "c\n",
      "\n"
     ]
    }
   ],
   "source": [
    "$a = \"a;b;;c\" -split ';'|% {\n",
    "\tif(!$_) {return} # we can return nothing to remove item within %\n",
    "\tif($_ -eq 'b') {return}\n",
    "\treturn $_\n",
    "}\n",
    "$a.GetType()\n",
    "\"Lenght: $($a.Length)\"\n",
    "$a"
   ]
  }
 ],
 "metadata": {
  "kernelspec": {
   "display_name": ".NET (C#)",
   "language": "C#",
   "name": ".net-csharp"
  },
  "language_info": {
   "name": "python",
   "version": "3.12.0"
  },
  "polyglot_notebook": {
   "kernelInfo": {
    "defaultKernelName": "csharp",
    "items": [
     {
      "aliases": [],
      "name": "csharp"
     }
    ]
   }
  }
 },
 "nbformat": 4,
 "nbformat_minor": 2
}
