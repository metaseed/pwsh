{
 "cells": [
  {
   "cell_type": "markdown",
   "metadata": {},
   "source": [
    "https://powershell.one/powershell-internals/scriptblocks/support-pipeline"
   ]
  },
  {
   "cell_type": "code",
   "execution_count": 51,
   "metadata": {
    "dotnet_interactive": {
     "language": "pwsh"
    },
    "polyglot_notebook": {
     "kernelName": "pwsh"
    },
    "vscode": {
     "languageId": "polyglot-notebook"
    }
   },
   "outputs": [
    {
     "name": "stdout",
     "output_type": "stream",
     "text": [
      "2\r\n"
     ]
    }
   ],
   "source": [
    "function Count-Object\n",
    "{\n",
    "\tbegin\n",
    "\t{\n",
    "\t\t$x = 0\n",
    "\t}\n",
    "\tprocess\n",
    "\t{\n",
    "\t\t$x++\n",
    "\t}\n",
    "\tend\n",
    "\t{\n",
    "\t\t $x\n",
    "\t}\n",
    "}\n",
    "# open 2 notepad for testing\n",
    "gps notepad | Count-Object"
   ]
  },
  {
   "cell_type": "code",
   "execution_count": 52,
   "metadata": {
    "dotnet_interactive": {
     "language": "pwsh"
    },
    "polyglot_notebook": {
     "kernelName": "pwsh"
    },
    "vscode": {
     "languageId": "polyglot-notebook"
    }
   },
   "outputs": [
    {
     "name": "stdout",
     "output_type": "stream",
     "text": [
      "2\n",
      "20240205\n",
      "1\n"
     ]
    }
   ],
   "source": [
    "& {\n",
    "\t# every expression result goto output\n",
    "\t2\n",
    "\t$null = 3 # eat the expression result\n",
    "\t$x = 0 # assignment return no value, so no output\n",
    "\t$x++ # is $x = $x + 1, is assignment so no output\n",
    "\tget-date -format filedate # get-date has return value, so goto output\n",
    "\t$x\n",
    "}"
   ]
  },
  {
   "cell_type": "code",
   "execution_count": 53,
   "metadata": {
    "dotnet_interactive": {
     "language": "pwsh"
    },
    "polyglot_notebook": {
     "kernelName": "pwsh"
    },
    "vscode": {
     "languageId": "polyglot-notebook"
    }
   },
   "outputs": [
    {
     "name": "stdout",
     "output_type": "stream",
     "text": [
      "0\n",
      "0\n",
      "1\n",
      "2\n",
      "5\n",
      "2\n",
      "2\n"
     ]
    }
   ],
   "source": [
    "function Count-Object\n",
    "{\n",
    "\tbegin\n",
    "\t{\n",
    "\t\t$x = 0\n",
    "\t\t$x # 0\n",
    "\t\treturn $x # 0\n",
    "\t}\n",
    "\tprocess\n",
    "\t{\n",
    "\t\t$x++\n",
    "\t\treturn $x # 1, 2\n",
    "\t}\n",
    "\tend\n",
    "\t{\n",
    "\t\t# every line in the end goto output\n",
    "\t\t 5 # 5\n",
    "\t\t $x # 2\n",
    "\t\t return $x # 2\n",
    "\t}\n",
    "}\n",
    "# open 2 notepad for testing\n",
    "gps notepad | Count-Object"
   ]
  },
  {
   "cell_type": "code",
   "execution_count": 60,
   "metadata": {
    "dotnet_interactive": {
     "language": "pwsh"
    },
    "polyglot_notebook": {
     "kernelName": "pwsh"
    },
    "vscode": {
     "languageId": "polyglot-notebook"
    }
   },
   "outputs": [
    {
     "name": "stdout",
     "output_type": "stream",
     "text": [
      "output: 1\n",
      "output: 1\n",
      "1\n",
      "output: 2\n",
      "output: 2\n",
      "2\n"
     ]
    }
   ],
   "source": [
    "function Count-Object\n",
    "{\n",
    "\tbegin\n",
    "\t{\n",
    "\t\t$x = 0\n",
    "\t}\n",
    "\tprocess\n",
    "\t{\n",
    "\t\t$x++\n",
    "\t\twrite-host \"output: $x\"\n",
    "\t\treturn $x # 1, 2\n",
    "\t}\n",
    "\tend\n",
    "\t{\n",
    "\t\t# every line in the end goto output\n",
    "\t\t#$x\n",
    "\t}\n",
    "}\n",
    "'a','b' | Count-Object|Count-Object"
   ]
  },
  {
   "cell_type": "code",
   "execution_count": 72,
   "metadata": {
    "dotnet_interactive": {
     "language": "pwsh"
    },
    "polyglot_notebook": {
     "kernelName": "pwsh"
    },
    "vscode": {
     "languageId": "polyglot-notebook"
    }
   },
   "outputs": [
    {
     "name": "stdout",
     "output_type": "stream",
     "text": [
      "10\n",
      "10\n",
      "init second\n",
      "0 ,second process 11\n",
      "0 ,second process 12\n",
      "init first\n",
      "a ,first process 0\n",
      "b ,first process 0\n",
      "end first\n",
      "end second\n"
     ]
    }
   ],
   "source": [
    "function Count-Object\n",
    "{\n",
    "\tbegin\n",
    "\t{\n",
    "\t\t$x = 0\n",
    "\t\t$x\n",
    "\t\t$x\n",
    "\t\twrite-host \"init first\"\n",
    "\t}\n",
    "\tprocess\n",
    "\t{\n",
    "\t\twrite-host \"$_ ,first process $x\"\n",
    "\t\t# $x++\n",
    "\t\t# write-host $x\n",
    "\t\t# return $x\n",
    "\t}\n",
    "\tend\n",
    "\t{\n",
    "\t\twrite-host 'end first'\n",
    "\t}\n",
    "}\n",
    "function Count-Object1\n",
    "{\n",
    "\tbegin\n",
    "\t{\n",
    "\t\t$x = 10\n",
    "\t\t$x\n",
    "\t\t$x\n",
    "\t\twrite-host \"init second\"\n",
    "\t}\n",
    "\tprocess\n",
    "\t{\n",
    "\t\t$x++\n",
    "\t\twrite-host \"$_ ,second process $x\"\n",
    "\n",
    "\t\t# return $x\n",
    "\t}\n",
    "\tend\n",
    "\t{\n",
    "\t\twrite-host 'end second'\n",
    "\t}\n",
    "}\n",
    "'a','b' | Count-Object|Count-Object1"
   ]
  },
  {
   "cell_type": "code",
   "execution_count": 66,
   "metadata": {
    "dotnet_interactive": {
     "language": "pwsh"
    },
    "polyglot_notebook": {
     "kernelName": "pwsh"
    },
    "vscode": {
     "languageId": "polyglot-notebook"
    }
   },
   "outputs": [
    {
     "name": "stdout",
     "output_type": "stream",
     "text": [
      "init first\n",
      "init second\n",
      "1\n",
      "11\n",
      "11\n",
      "2\n",
      "12\n",
      "12\n",
      "end first\n",
      "end second\n"
     ]
    }
   ],
   "source": [
    "function Count-Object\n",
    "{\n",
    "\tbegin\n",
    "\t{\n",
    "\t\t$x = 0\n",
    "\t\twrite-host \"init first\"\n",
    "\t}\n",
    "\tprocess\n",
    "\t{\n",
    "\t\t$x++\n",
    "\t\twrite-host $x\n",
    "\t\treturn $x\n",
    "\t}\n",
    "\tend\n",
    "\t{\n",
    "\t\twrite-host 'end first'\n",
    "\t}\n",
    "}\n",
    "function Count-Object1\n",
    "{\n",
    "\tbegin\n",
    "\t{\n",
    "\t\t$x = 10\n",
    "\t\twrite-host \"init second\"\n",
    "\t}\n",
    "\tprocess\n",
    "\t{\n",
    "\t\t$x++\n",
    "\t\twrite-host $x\n",
    "\n",
    "\t\treturn $x\n",
    "\t}\n",
    "\tend\n",
    "\t{\n",
    "\t\twrite-host 'end second'\n",
    "\t}\n",
    "}\n",
    "'a','b' | Count-Object|Count-Object1"
   ]
  },
  {
   "cell_type": "markdown",
   "metadata": {},
   "source": [
    "\t\tinit 1, inti 2\n",
    "itemA:  step 1, step 2, resultA\n",
    "itemB:  step 1, step 2, resultB\n",
    "\t\tend  1, end  2 "
   ]
  },
  {
   "cell_type": "markdown",
   "metadata": {},
   "source": [
    "## Array like object"
   ]
  },
  {
   "cell_type": "code",
   "execution_count": 55,
   "metadata": {
    "dotnet_interactive": {
     "language": "pwsh"
    },
    "polyglot_notebook": {
     "kernelName": "pwsh"
    },
    "vscode": {
     "languageId": "polyglot-notebook"
    }
   },
   "outputs": [],
   "source": [
    "function Out-Voice\n",
    "{\n",
    "  param\n",
    "  (\n",
    "    [Parameter(Mandatory,ValueFromPipeline)]\n",
    "    # allow string arrays:\n",
    "    [string[]]\n",
    "    $Text,\n",
    "\n",
    "    [ValidateRange(-10,10)]\n",
    "    [int]\n",
    "    $Speed = 0\n",
    "  )\n",
    "\n",
    "  # do initialization tasks\n",
    "  begin\n",
    "  {\n",
    "    $sapi = New-Object -ComObject Sapi.SPVoice\n",
    "    $sapi.Rate = $Speed\n",
    "  }\n",
    "\n",
    "  # process pipeline input\n",
    "  process\n",
    "  {\n",
    "    # unwrap arrays manually that were assigned to the\n",
    "    # parameter directly:\n",
    "    foreach($element in $Text)\n",
    "    {\n",
    "      $null = $sapi.Speak($element)\n",
    "    }\n",
    "  }\n",
    "}\n",
    "\n",
    "# accepts pipeline input:\n",
    "'Hello','This is a test' | Out-Voice -Speed 6"
   ]
  },
  {
   "cell_type": "code",
   "execution_count": 56,
   "metadata": {
    "dotnet_interactive": {
     "language": "pwsh"
    },
    "polyglot_notebook": {
     "kernelName": "pwsh"
    },
    "vscode": {
     "languageId": "polyglot-notebook"
    }
   },
   "outputs": [
    {
     "name": "stdout",
     "output_type": "stream",
     "text": [
      "Hello\n",
      "This is a test\n"
     ]
    }
   ],
   "source": [
    "function Array-Test\n",
    "{\n",
    "  param\n",
    "  (\n",
    "    [Parameter(Mandatory,ValueFromPipeline)]\n",
    "    # allow string arrays:\n",
    "    [string[]]\n",
    "    $Text\n",
    "  )\n",
    "\n",
    "  # do initialization tasks\n",
    "  begin\n",
    "  {\n",
    "    $x = 0\n",
    "  }\n",
    "\n",
    "  # process pipeline input\n",
    "  process\n",
    "  {\n",
    "    # unwrap arrays manually that were assigned to the\n",
    "    # parameter directly:\n",
    "    foreach($element in $Text)\n",
    "    {\n",
    "      write-host $element\n",
    "    }\n",
    "  }\n",
    "}\n",
    "\n",
    "# accepts pipeline input:\n",
    "'Hello','This is a test' | Array-Test"
   ]
  },
  {
   "cell_type": "code",
   "execution_count": 57,
   "metadata": {
    "dotnet_interactive": {
     "language": "pwsh"
    },
    "polyglot_notebook": {
     "kernelName": "pwsh"
    },
    "vscode": {
     "languageId": "polyglot-notebook"
    }
   },
   "outputs": [
    {
     "name": "stdout",
     "output_type": "stream",
     "text": [
      "Hello\n",
      "System.String[]\n",
      "This is a test\n",
      "System.String[]\n"
     ]
    }
   ],
   "source": [
    "function Array-Test\n",
    "{\n",
    "  param\n",
    "  (\n",
    "    [Parameter(Mandatory,ValueFromPipeline)]\n",
    "    # allow string arrays:\n",
    "    [string[]]\n",
    "    $Text\n",
    "  )\n",
    "\n",
    "  # do initialization tasks\n",
    "  begin\n",
    "  {\n",
    "    $x = 0\n",
    "  }\n",
    "\n",
    "  # process pipeline input\n",
    "  process\n",
    "  {\n",
    "    # unwrap arrays manually that were assigned to the\n",
    "    # parameter directly:\n",
    "    write-host $Text\n",
    "\twrite-host $text.gettype()\n",
    "  }\n",
    "}\n",
    "\n",
    "# accepts pipeline input:\n",
    "'Hello','This is a test' | Array-Test"
   ]
  },
  {
   "cell_type": "code",
   "execution_count": null,
   "metadata": {
    "dotnet_interactive": {
     "language": "pwsh"
    },
    "polyglot_notebook": {
     "kernelName": "pwsh"
    },
    "vscode": {
     "languageId": "polyglot-notebook"
    }
   },
   "outputs": [],
   "source": [
    "function Array-Test\n",
    "{\n",
    "  param\n",
    "  (\n",
    "    [Parameter(Mandatory,ValueFromPipeline)]\n",
    "    # allow string arrays:\n",
    "    $Text\n",
    "  )\n",
    "\n",
    "  # do initialization tasks\n",
    "  begin\n",
    "  {\n",
    "    $x = 0\n",
    "  }\n",
    "\n",
    "  # process pipeline input\n",
    "  process\n",
    "  {\n",
    "    # unwrap arrays manually that were assigned to the\n",
    "    # parameter directly:\n",
    "    write-host $Text\n",
    "\twrite-host $text.gettype()\n",
    "  }\n",
    "}\n",
    "\n",
    "# accepts pipeline input:\n",
    "'Hello','This is a test' | Array-Test"
   ]
  },
  {
   "cell_type": "code",
   "execution_count": 59,
   "metadata": {
    "dotnet_interactive": {
     "language": "pwsh"
    },
    "polyglot_notebook": {
     "kernelName": "pwsh"
    },
    "vscode": {
     "languageId": "polyglot-notebook"
    }
   },
   "outputs": [
    {
     "name": "stdout",
     "output_type": "stream",
     "text": [
      "Hello\n",
      "System.String\n",
      "This is a test\n",
      "System.String\n"
     ]
    }
   ],
   "source": [
    "function Array-Test\n",
    "{\n",
    "  param\n",
    "  (\n",
    "    [Parameter(Mandatory,ValueFromPipeline)]\n",
    "    $Text\n",
    "  )\n",
    "\n",
    "  # do initialization tasks\n",
    "  begin\n",
    "  {\n",
    "    $x = 0\n",
    "  }\n",
    "\n",
    "  # process pipeline input\n",
    "  process\n",
    "  {\n",
    "    # unwrap arrays manually that were assigned to the\n",
    "    # parameter directly:\n",
    "    write-host $Text\n",
    "\twrite-host $text.gettype()\n",
    "  }\n",
    "}\n",
    "## add ()\n",
    "('Hello','This is a test') | Array-Test"
   ]
  },
  {
   "cell_type": "markdown",
   "metadata": {},
   "source": [
    "> the pipeline operator access obj or array as the left most (first) object, then every step is a partial function call\n",
    "> the step function accept obj or item of the array, not the full array as one-time obj"
   ]
  },
  {
   "cell_type": "code",
   "execution_count": 12,
   "metadata": {
    "dotnet_interactive": {
     "language": "pwsh"
    },
    "polyglot_notebook": {
     "kernelName": "pwsh"
    },
    "vscode": {
     "languageId": "polyglot-notebook"
    }
   },
   "outputs": [
    {
     "name": "stdout",
     "output_type": "stream",
     "text": [
      "begin \n",
      "begin \n",
      "process 1\n",
      "process 1\n",
      "1\n",
      "process 2\n",
      "process 2\n",
      "2\n",
      "end 2\n",
      "end 2\n",
      "----------\n",
      "begin \n",
      "process 1\n",
      "process 2\n",
      "end 2\n",
      "begin \n",
      "process 1\n",
      "1\n",
      "process 2\n",
      "2\n",
      "end 2\n",
      "----------\n",
      "begin \n",
      "process 1\n",
      "process 2\n",
      "end 2\n",
      "**\n",
      "begin \n",
      "process 1\n",
      "1\n",
      "process 2\n",
      "2\n",
      "end 2\n"
     ]
    }
   ],
   "source": [
    "function Test\n",
    "{\n",
    "  param\n",
    "  (\n",
    "    [Parameter(Mandatory,ValueFromPipeline)]\n",
    "    # allow string arrays:\n",
    "    $Text\n",
    "  )\n",
    "\n",
    "  # do initialization tasks\n",
    "  begin\n",
    "  {\n",
    "\n",
    "    $x = $Test\n",
    "    write-host \"begin $Text\"\n",
    "  }\n",
    "\n",
    "  # process pipeline input\n",
    "  process\n",
    "  {\n",
    "    write-host \"process $Text\"\n",
    "    $Text\n",
    "  }\n",
    "\n",
    "  end\n",
    "\t{\n",
    "\t\twrite-host \"end $Text\"\n",
    "\t}\n",
    "}\n",
    "\n",
    "1,2 | Test|Test\n",
    "write-host \"----------\"\n",
    "(1,2 | Test)|Test\n",
    "write-host \"----------\"\n",
    "$v =1,2 | Test\n",
    "write-host '**'\n",
    "$v|Test"
   ]
  }
 ],
 "metadata": {
  "kernelspec": {
   "display_name": "Python 3",
   "language": "python",
   "name": "python3"
  },
  "language_info": {
   "name": "python",
   "version": "3.12.0"
  },
  "polyglot_notebook": {
   "kernelInfo": {
    "defaultKernelName": "csharp",
    "items": [
     {
      "aliases": [],
      "name": "csharp"
     }
    ]
   }
  }
 },
 "nbformat": 4,
 "nbformat_minor": 2
}
