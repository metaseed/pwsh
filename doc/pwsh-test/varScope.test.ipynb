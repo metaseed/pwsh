{
 "cells": [
  {
   "cell_type": "markdown",
   "metadata": {},
   "source": [
    "## variable scope in script block"
   ]
  },
  {
   "cell_type": "code",
   "execution_count": 1,
   "metadata": {
    "dotnet_interactive": {
     "language": "pwsh"
    },
    "polyglot_notebook": {
     "kernelName": "pwsh"
    },
    "vscode": {
     "languageId": "polyglot-notebook"
    }
   },
   "outputs": [],
   "source": [
    "&{$b=1}\n",
    "$b"
   ]
  },
  {
   "cell_type": "code",
   "execution_count": null,
   "metadata": {
    "dotnet_interactive": {
     "language": "pwsh"
    },
    "polyglot_notebook": {
     "kernelName": "pwsh"
    },
    "vscode": {
     "languageId": "polyglot-notebook"
    }
   },
   "outputs": [
    {
     "name": "stdout",
     "output_type": "stream",
     "text": [
      "$a = 1;$bb=1\n",
      "\n",
      "\u001b[32;1mIsPublic\u001b[0m \u001b[32;1;3mIsSerial\u001b[0m\u001b[32;1m Name                                    \u001b[0m\u001b[32;1m BaseType\u001b[0m\n",
      "\u001b[32;1m--------\u001b[0m \u001b[32;1m--------\u001b[0m \u001b[32;1m----                                    \u001b[0m \u001b[32;1m--------\u001b[0m\n",
      "True     False    ScriptBlock                              System.Object\n",
      "a is 3\n",
      "a is \n",
      "ccc\n",
      "f() function excuted\n",
      "# invoke with var\n",
      "output form f function\n",
      "# invoke with function name\n",
      "f() function excuted\n",
      "output form f function\n",
      "\n"
     ]
    }
   ],
   "source": [
    "# can not access variable inside script block,\n",
    "{$a = 1;$bb=1} #script block\n",
    "{aakjf;adkfj;dasfkja;}.gettype() # not evaluated the code inside it.\n",
    "icm {$a=3;\"a is $a\"} # invoke-command same as &\n",
    "\"a is $a\"\n",
    "\n",
    "# script block is lambda expression that is an object of function\n",
    "$c = {write-host \"ccc\"}\n",
    "&$c\n",
    "# function itself is not an object can not be assigned\n",
    "function f() {\n",
    "\tWrite-Host \"f() function excuted\"\n",
    "\treturn \"output form f function\"\n",
    "}\n",
    "# `f` is invoke the function is not get the reference to it.\n",
    "$ff = f # executed here\n",
    "$ff # get the output saved in the var\n",
    "\"# invoke with function name\"\n",
    "f"
   ]
  },
  {
   "cell_type": "code",
   "execution_count": 5,
   "metadata": {
    "dotnet_interactive": {
     "language": "pwsh"
    },
    "polyglot_notebook": {
     "kernelName": "pwsh"
    },
    "vscode": {
     "languageId": "polyglot-notebook"
    }
   },
   "outputs": [
    {
     "name": "stdout",
     "output_type": "stream",
     "text": [
      "\n",
      "\u001b[32;1mName                          \u001b[0m\u001b[32;1m Value\u001b[0m\n",
      "\u001b[32;1m----                          \u001b[0m \u001b[32;1m-----\u001b[0m\n",
      "a                              1\n",
      "System.Collections.Hashtable\n",
      "\n"
     ]
    }
   ],
   "source": [
    "$ddd = @{a = 1}\n",
    "$ddd\n",
    "$ddd.GetType().FullName"
   ]
  },
  {
   "cell_type": "code",
   "execution_count": 8,
   "metadata": {
    "dotnet_interactive": {
     "language": "pwsh"
    },
    "polyglot_notebook": {
     "kernelName": "pwsh"
    },
    "vscode": {
     "languageId": "polyglot-notebook"
    }
   },
   "outputs": [
    {
     "name": "stdout",
     "output_type": "stream",
     "text": [
      "dd: \n",
      "cd:\n",
      "root dd:\n"
     ]
    }
   ],
   "source": [
    "# var is only visible inside the script block\n",
    "&{\n",
    "\t$cd = 1\n",
    "\t&{$dd = 3}\n",
    "\t\"dd: $dd\"\n",
    "}\n",
    "\"cd:$cd\"\n",
    "\"root dd:$dd\""
   ]
  },
  {
   "cell_type": "markdown",
   "metadata": {},
   "source": [
    "## `if` expression"
   ]
  },
  {
   "cell_type": "code",
   "execution_count": null,
   "metadata": {
    "dotnet_interactive": {
     "language": "pwsh"
    },
    "polyglot_notebook": {
     "kernelName": "pwsh"
    },
    "vscode": {
     "languageId": "polyglot-notebook"
    }
   },
   "outputs": [
    {
     "name": "stdout",
     "output_type": "stream",
     "text": [
      "3\r\n"
     ]
    }
   ],
   "source": [
    "# if expression, it will generate value\n",
    "$f = if($true) {3}\n",
    "$f\n",
    "# $f is not invoke `if` expression, it is getting value from variable $f"
   ]
  },
  {
   "cell_type": "code",
   "execution_count": null,
   "metadata": {
    "dotnet_interactive": {
     "language": "pwsh"
    },
    "polyglot_notebook": {
     "kernelName": "pwsh"
    },
    "vscode": {
     "languageId": "polyglot-notebook"
    }
   },
   "outputs": [
    {
     "name": "stdout",
     "output_type": "stream",
     "text": [
      "3\n",
      "invoke func in side var\n",
      "True\n",
      "\u001b[31;1mInvalidOperation: \u001b[0m\n",
      "\u001b[31;1m\u001b[36;1mLine |\u001b[0m\n",
      "\u001b[31;1m\u001b[36;1m\u001b[36;1m   7 | \u001b[0m \u001b[36;1m$a.GetType()\u001b[0m\n",
      "\u001b[31;1m\u001b[36;1m\u001b[36;1m\u001b[0m\u001b[36;1m\u001b[0m\u001b[36;1m     | \u001b[31;1m ~~~~~~~~~~~~\u001b[0m\n",
      "\u001b[31;1m\u001b[36;1m\u001b[36;1m\u001b[0m\u001b[36;1m\u001b[0m\u001b[36;1m\u001b[31;1m\u001b[31;1m\u001b[36;1m     | \u001b[31;1mYou cannot call a method on a null-valued expression.\u001b[0m\n",
      "\n",
      "\u001b[32;1mIsPublic\u001b[0m \u001b[32;1;3mIsSerial\u001b[0m\u001b[32;1m Name                                    \u001b[0m\u001b[32;1m BaseType\u001b[0m\n",
      "\u001b[32;1m--------\u001b[0m \u001b[32;1m--------\u001b[0m \u001b[32;1m----                                    \u001b[0m \u001b[32;1m--------\u001b[0m\n",
      "True     False    ScriptBlock                              System.Object\n",
      "5\n",
      "\n"
     ]
    },
    {
     "ename": "Error",
     "evalue": "You cannot call a method on a null-valued expression.",
     "output_type": "error",
     "traceback": [
      "You cannot call a method on a null-valued expression."
     ]
    }
   ],
   "source": [
    "$a = function aaa(){return 3}\n",
    "# call function\n",
    "aaa\n",
    "# not work\n",
    "\"invoke func in side var\"\n",
    "$a -eq $null # is null\n",
    "# $a\n",
    "# &{$a}\n",
    "\n",
    "$b = {4 +1}\n",
    "$b.GetType()\n",
    "# invoke ScriptBlock\n",
    "&$b\n"
   ]
  },
  {
   "cell_type": "code",
   "execution_count": 12,
   "metadata": {
    "dotnet_interactive": {
     "language": "pwsh"
    },
    "polyglot_notebook": {
     "kernelName": "pwsh"
    },
    "vscode": {
     "languageId": "polyglot-notebook"
    }
   },
   "outputs": [
    {
     "name": "stdout",
     "output_type": "stream",
     "text": [
      "\u001b[31;1mParserError: \u001b[0m\n",
      "\u001b[31;1m\u001b[36;1mLine |\u001b[0m\n",
      "\u001b[31;1m\u001b[36;1m\u001b[36;1m   1 | \u001b[0m $f = if($true\u001b[36;1m)\u001b[0m 3 # `{}` statement block needed after if ( condition )\u001b[0m\n",
      "\u001b[31;1m\u001b[36;1m\u001b[36;1m\u001b[0m\u001b[36;1m\u001b[0m\u001b[36;1m     | \u001b[31;1m              ~\u001b[0m\n",
      "\u001b[31;1m\u001b[36;1m\u001b[36;1m\u001b[0m\u001b[36;1m\u001b[0m\u001b[36;1m\u001b[31;1m\u001b[31;1m\u001b[36;1m     | \u001b[31;1mMissing statement block after if ( condition ).\u001b[0m\n"
     ]
    }
   ],
   "source": [
    "$f = if($true) 3 # `{}` statement block needed after if ( condition )\n",
    "$f"
   ]
  },
  {
   "cell_type": "code",
   "execution_count": 11,
   "metadata": {
    "dotnet_interactive": {
     "language": "pwsh"
    },
    "polyglot_notebook": {
     "kernelName": "pwsh"
    },
    "vscode": {
     "languageId": "polyglot-notebook"
    }
   },
   "outputs": [
    {
     "name": "stdout",
     "output_type": "stream",
     "text": [
      "\u001b[31;1mParserError: \u001b[0m\n",
      "\u001b[31;1m\u001b[36;1mLine |\u001b[0m\n",
      "\u001b[31;1m\u001b[36;1m\u001b[36;1m   1 | \u001b[0m if\u001b[36;1m \u001b[0m$true {2}\u001b[0m\n",
      "\u001b[31;1m\u001b[36;1m\u001b[36;1m\u001b[0m\u001b[36;1m\u001b[0m\u001b[36;1m     | \u001b[31;1m   ~\u001b[0m\n",
      "\u001b[31;1m\u001b[36;1m\u001b[36;1m\u001b[0m\u001b[36;1m\u001b[0m\u001b[36;1m\u001b[31;1m\u001b[31;1m\u001b[36;1m     | \u001b[31;1mMissing '(' after 'if' in if statement.\u001b[0m\n"
     ]
    }
   ],
   "source": [
    "if $true {2}"
   ]
  },
  {
   "cell_type": "code",
   "execution_count": null,
   "metadata": {
    "dotnet_interactive": {
     "language": "pwsh"
    },
    "polyglot_notebook": {
     "kernelName": "pwsh"
    },
    "vscode": {
     "languageId": "polyglot-notebook"
    }
   },
   "outputs": [
    {
     "name": "stdout",
     "output_type": "stream",
     "text": [
      "8\r\n"
     ]
    }
   ],
   "source": [
    "# if expression expose var out the if body\n",
    "# the if syntax: if(condition expression){statement block}\n",
    "if($true) {\n",
    "\t$e = 8\n",
    "}\n",
    "$e\n",
    "# the `if` expression means if condition true execute the statement block in the current scope\n",
    "# NOTE: directly invoke a ScriptBlock will not expose the variable inside it\n",
    "&{$ee = 88}\n",
    "$ee"
   ]
  }
 ],
 "metadata": {
  "kernelspec": {
   "display_name": ".NET (C#)",
   "language": "C#",
   "name": ".net-csharp"
  },
  "language_info": {
   "name": "python"
  },
  "polyglot_notebook": {
   "kernelInfo": {
    "defaultKernelName": "csharp",
    "items": [
     {
      "aliases": [],
      "name": "csharp"
     }
    ]
   }
  }
 },
 "nbformat": 4,
 "nbformat_minor": 2
}
